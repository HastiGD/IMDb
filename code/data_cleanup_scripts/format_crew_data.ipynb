{
 "cells": [
  {
   "cell_type": "markdown",
   "metadata": {},
   "source": [
    "# Format Crew Data"
   ]
  },
  {
   "cell_type": "markdown",
   "metadata": {},
   "source": [
    "## Load Crew data into a df"
   ]
  },
  {
   "cell_type": "code",
   "execution_count": 173,
   "metadata": {
    "scrolled": true
   },
   "outputs": [],
   "source": [
    "import pandas as pd\n",
    "\n",
    "path = \"/Users/hastigheibidehnashi/DBMS/IMDb/raw_data/\"\n",
    "file = \"title.crew.tsv.gz\"\n",
    "crew_df = pd.read_csv(path+file, sep=\"\\t\", na_values=\"\\\\N\", nrows = 30)"
   ]
  },
  {
   "cell_type": "markdown",
   "metadata": {},
   "source": [
    "## Split directors and writers into their own df"
   ]
  },
  {
   "cell_type": "code",
   "execution_count": 174,
   "metadata": {},
   "outputs": [],
   "source": [
    "d_df = pd.concat([crew_df['tconst'], crew_df['directors']], axis=1)\n",
    "d_df = d_df.dropna(axis=0, how='any') # drop rows with missing values\n",
    "w_df = pd.concat([crew_df['tconst'], crew_df['writers']], axis=1)\n",
    "w_df = w_df.dropna(axis=0, how='any') # drop rows with missing values"
   ]
  },
  {
   "cell_type": "markdown",
   "metadata": {},
   "source": [
    "## Separate multiple directors and writers into their individual cols"
   ]
  },
  {
   "cell_type": "code",
   "execution_count": 175,
   "metadata": {},
   "outputs": [],
   "source": [
    "dir_df = d_df['directors'].str.split(',', expand=True)\n",
    "writ_df = w_df['writers'].str.split(',', expand=True)"
   ]
  },
  {
   "cell_type": "markdown",
   "metadata": {},
   "source": [
    "## Insert tconst col back in"
   ]
  },
  {
   "cell_type": "code",
   "execution_count": 176,
   "metadata": {},
   "outputs": [],
   "source": [
    "dir_df['tconst'] = d_df['tconst']\n",
    "writ_df['tconst'] = w_df['tconst']"
   ]
  },
  {
   "cell_type": "markdown",
   "metadata": {},
   "source": [
    "## Add a new col, 'role', representing the role of each crew member"
   ]
  },
  {
   "cell_type": "code",
   "execution_count": 177,
   "metadata": {},
   "outputs": [],
   "source": [
    "dir_df['role'] = \"director\"\n",
    "writ_df['role'] = 'writer'"
   ]
  },
  {
   "cell_type": "markdown",
   "metadata": {},
   "source": [
    "## Create df's containing a new row for each crew member, their role, and the tconst"
   ]
  },
  {
   "cell_type": "code",
   "execution_count": 178,
   "metadata": {},
   "outputs": [],
   "source": [
    "dfs = [] # create a list of final dfs to be merged\n",
    "\n",
    "dir_cols = list(dir_df) # create a list of dir_df cols\n",
    "writ_cols = list(writ_df) # create a list of writ_df cols\n",
    "\n",
    "# iterate through each director df extracting nconst, tconst, and role for each director\n",
    "for i in range(len(dir_cols)-2):\n",
    "    df = dir_df[['tconst','role',i]]\n",
    "    df = df.rename(columns={i: 'nconst'})  # rename the nconst col\n",
    "    df = df.dropna(axis=0, how='any')  # drop rows with missing values\n",
    "    dfs.append(df) # add to list of dfs to be merged at the end\n",
    "\n",
    "# repeat for writers\n",
    "for i in range(len(writ_cols)-2):\n",
    "    df = writ_df[['tconst', 'role', i]]\n",
    "    df = df.rename(columns={0: 'nconst'})\n",
    "    df = df.dropna(axis=0, how='any') \n",
    "    dfs.append(df)"
   ]
  },
  {
   "cell_type": "markdown",
   "metadata": {},
   "source": [
    "## Concatenate all crew member data into one final table"
   ]
  },
  {
   "cell_type": "code",
   "execution_count": 179,
   "metadata": {},
   "outputs": [],
   "source": [
    "crewMember_df = pd.concat(dfs, ignore_index=True,  sort=False)\n",
    "crewMember_df['crewMemberId'] = crewMember_df.index+1  # add index to serve as the primary key for the new table"
   ]
  },
  {
   "cell_type": "markdown",
   "metadata": {},
   "source": [
    "## Rearrange cols to match relational schema"
   ]
  },
  {
   "cell_type": "code",
   "execution_count": 180,
   "metadata": {},
   "outputs": [
    {
     "data": {
      "text/html": [
       "<div>\n",
       "<style scoped>\n",
       "    .dataframe tbody tr th:only-of-type {\n",
       "        vertical-align: middle;\n",
       "    }\n",
       "\n",
       "    .dataframe tbody tr th {\n",
       "        vertical-align: top;\n",
       "    }\n",
       "\n",
       "    .dataframe thead th {\n",
       "        text-align: right;\n",
       "    }\n",
       "</style>\n",
       "<table border=\"1\" class=\"dataframe\">\n",
       "  <thead>\n",
       "    <tr style=\"text-align: right;\">\n",
       "      <th></th>\n",
       "      <th>crewMemberId</th>\n",
       "      <th>tconst</th>\n",
       "      <th>nconst</th>\n",
       "      <th>role</th>\n",
       "    </tr>\n",
       "  </thead>\n",
       "  <tbody>\n",
       "    <tr>\n",
       "      <th>0</th>\n",
       "      <td>1</td>\n",
       "      <td>tt0000001</td>\n",
       "      <td>nm0005690</td>\n",
       "      <td>director</td>\n",
       "    </tr>\n",
       "    <tr>\n",
       "      <th>1</th>\n",
       "      <td>2</td>\n",
       "      <td>tt0000002</td>\n",
       "      <td>nm0721526</td>\n",
       "      <td>director</td>\n",
       "    </tr>\n",
       "    <tr>\n",
       "      <th>2</th>\n",
       "      <td>3</td>\n",
       "      <td>tt0000003</td>\n",
       "      <td>nm0721526</td>\n",
       "      <td>director</td>\n",
       "    </tr>\n",
       "    <tr>\n",
       "      <th>3</th>\n",
       "      <td>4</td>\n",
       "      <td>tt0000004</td>\n",
       "      <td>nm0721526</td>\n",
       "      <td>director</td>\n",
       "    </tr>\n",
       "    <tr>\n",
       "      <th>4</th>\n",
       "      <td>5</td>\n",
       "      <td>tt0000005</td>\n",
       "      <td>nm0005690</td>\n",
       "      <td>director</td>\n",
       "    </tr>\n",
       "    <tr>\n",
       "      <th>5</th>\n",
       "      <td>6</td>\n",
       "      <td>tt0000006</td>\n",
       "      <td>nm0005690</td>\n",
       "      <td>director</td>\n",
       "    </tr>\n",
       "    <tr>\n",
       "      <th>6</th>\n",
       "      <td>7</td>\n",
       "      <td>tt0000007</td>\n",
       "      <td>nm0005690</td>\n",
       "      <td>director</td>\n",
       "    </tr>\n",
       "    <tr>\n",
       "      <th>7</th>\n",
       "      <td>8</td>\n",
       "      <td>tt0000008</td>\n",
       "      <td>nm0005690</td>\n",
       "      <td>director</td>\n",
       "    </tr>\n",
       "    <tr>\n",
       "      <th>8</th>\n",
       "      <td>9</td>\n",
       "      <td>tt0000009</td>\n",
       "      <td>nm0085156</td>\n",
       "      <td>director</td>\n",
       "    </tr>\n",
       "    <tr>\n",
       "      <th>9</th>\n",
       "      <td>10</td>\n",
       "      <td>tt0000010</td>\n",
       "      <td>nm0525910</td>\n",
       "      <td>director</td>\n",
       "    </tr>\n",
       "    <tr>\n",
       "      <th>10</th>\n",
       "      <td>11</td>\n",
       "      <td>tt0000011</td>\n",
       "      <td>nm0804434</td>\n",
       "      <td>director</td>\n",
       "    </tr>\n",
       "    <tr>\n",
       "      <th>11</th>\n",
       "      <td>12</td>\n",
       "      <td>tt0000012</td>\n",
       "      <td>nm0525910</td>\n",
       "      <td>director</td>\n",
       "    </tr>\n",
       "    <tr>\n",
       "      <th>12</th>\n",
       "      <td>13</td>\n",
       "      <td>tt0000013</td>\n",
       "      <td>nm0525910</td>\n",
       "      <td>director</td>\n",
       "    </tr>\n",
       "    <tr>\n",
       "      <th>13</th>\n",
       "      <td>14</td>\n",
       "      <td>tt0000014</td>\n",
       "      <td>nm0525910</td>\n",
       "      <td>director</td>\n",
       "    </tr>\n",
       "    <tr>\n",
       "      <th>14</th>\n",
       "      <td>15</td>\n",
       "      <td>tt0000015</td>\n",
       "      <td>nm0721526</td>\n",
       "      <td>director</td>\n",
       "    </tr>\n",
       "    <tr>\n",
       "      <th>15</th>\n",
       "      <td>16</td>\n",
       "      <td>tt0000016</td>\n",
       "      <td>nm0525910</td>\n",
       "      <td>director</td>\n",
       "    </tr>\n",
       "    <tr>\n",
       "      <th>16</th>\n",
       "      <td>17</td>\n",
       "      <td>tt0000017</td>\n",
       "      <td>nm0804434</td>\n",
       "      <td>director</td>\n",
       "    </tr>\n",
       "    <tr>\n",
       "      <th>17</th>\n",
       "      <td>18</td>\n",
       "      <td>tt0000018</td>\n",
       "      <td>nm0804434</td>\n",
       "      <td>director</td>\n",
       "    </tr>\n",
       "    <tr>\n",
       "      <th>18</th>\n",
       "      <td>19</td>\n",
       "      <td>tt0000019</td>\n",
       "      <td>nm0932055</td>\n",
       "      <td>director</td>\n",
       "    </tr>\n",
       "    <tr>\n",
       "      <th>19</th>\n",
       "      <td>20</td>\n",
       "      <td>tt0000020</td>\n",
       "      <td>nm0010291</td>\n",
       "      <td>director</td>\n",
       "    </tr>\n",
       "    <tr>\n",
       "      <th>20</th>\n",
       "      <td>21</td>\n",
       "      <td>tt0000022</td>\n",
       "      <td>nm0525910</td>\n",
       "      <td>director</td>\n",
       "    </tr>\n",
       "    <tr>\n",
       "      <th>21</th>\n",
       "      <td>22</td>\n",
       "      <td>tt0000023</td>\n",
       "      <td>nm0525910</td>\n",
       "      <td>director</td>\n",
       "    </tr>\n",
       "    <tr>\n",
       "      <th>22</th>\n",
       "      <td>23</td>\n",
       "      <td>tt0000024</td>\n",
       "      <td>nm0010291</td>\n",
       "      <td>director</td>\n",
       "    </tr>\n",
       "    <tr>\n",
       "      <th>23</th>\n",
       "      <td>24</td>\n",
       "      <td>tt0000025</td>\n",
       "      <td>nm0010291</td>\n",
       "      <td>director</td>\n",
       "    </tr>\n",
       "    <tr>\n",
       "      <th>24</th>\n",
       "      <td>25</td>\n",
       "      <td>tt0000026</td>\n",
       "      <td>nm0525910</td>\n",
       "      <td>director</td>\n",
       "    </tr>\n",
       "    <tr>\n",
       "      <th>25</th>\n",
       "      <td>26</td>\n",
       "      <td>tt0000027</td>\n",
       "      <td>nm0525910</td>\n",
       "      <td>director</td>\n",
       "    </tr>\n",
       "    <tr>\n",
       "      <th>26</th>\n",
       "      <td>27</td>\n",
       "      <td>tt0000028</td>\n",
       "      <td>nm0525910</td>\n",
       "      <td>director</td>\n",
       "    </tr>\n",
       "    <tr>\n",
       "      <th>27</th>\n",
       "      <td>28</td>\n",
       "      <td>tt0000029</td>\n",
       "      <td>nm0525910</td>\n",
       "      <td>director</td>\n",
       "    </tr>\n",
       "    <tr>\n",
       "      <th>28</th>\n",
       "      <td>29</td>\n",
       "      <td>tt0000030</td>\n",
       "      <td>nm0010291</td>\n",
       "      <td>director</td>\n",
       "    </tr>\n",
       "    <tr>\n",
       "      <th>29</th>\n",
       "      <td>30</td>\n",
       "      <td>tt0000031</td>\n",
       "      <td>nm0525910</td>\n",
       "      <td>director</td>\n",
       "    </tr>\n",
       "    <tr>\n",
       "      <th>30</th>\n",
       "      <td>31</td>\n",
       "      <td>tt0000007</td>\n",
       "      <td>nm0374658</td>\n",
       "      <td>director</td>\n",
       "    </tr>\n",
       "    <tr>\n",
       "      <th>31</th>\n",
       "      <td>32</td>\n",
       "      <td>tt0000012</td>\n",
       "      <td>nm0525908</td>\n",
       "      <td>director</td>\n",
       "    </tr>\n",
       "    <tr>\n",
       "      <th>32</th>\n",
       "      <td>33</td>\n",
       "      <td>tt0000014</td>\n",
       "      <td>nm0349785</td>\n",
       "      <td>director</td>\n",
       "    </tr>\n",
       "    <tr>\n",
       "      <th>33</th>\n",
       "      <td>34</td>\n",
       "      <td>tt0000017</td>\n",
       "      <td>nm1587194</td>\n",
       "      <td>director</td>\n",
       "    </tr>\n",
       "    <tr>\n",
       "      <th>34</th>\n",
       "      <td>35</td>\n",
       "      <td>tt0000030</td>\n",
       "      <td>nm0666972</td>\n",
       "      <td>director</td>\n",
       "    </tr>\n",
       "    <tr>\n",
       "      <th>35</th>\n",
       "      <td>36</td>\n",
       "      <td>tt0000009</td>\n",
       "      <td>nm0085156</td>\n",
       "      <td>writer</td>\n",
       "    </tr>\n",
       "  </tbody>\n",
       "</table>\n",
       "</div>"
      ],
      "text/plain": [
       "    crewMemberId     tconst     nconst      role\n",
       "0              1  tt0000001  nm0005690  director\n",
       "1              2  tt0000002  nm0721526  director\n",
       "2              3  tt0000003  nm0721526  director\n",
       "3              4  tt0000004  nm0721526  director\n",
       "4              5  tt0000005  nm0005690  director\n",
       "5              6  tt0000006  nm0005690  director\n",
       "6              7  tt0000007  nm0005690  director\n",
       "7              8  tt0000008  nm0005690  director\n",
       "8              9  tt0000009  nm0085156  director\n",
       "9             10  tt0000010  nm0525910  director\n",
       "10            11  tt0000011  nm0804434  director\n",
       "11            12  tt0000012  nm0525910  director\n",
       "12            13  tt0000013  nm0525910  director\n",
       "13            14  tt0000014  nm0525910  director\n",
       "14            15  tt0000015  nm0721526  director\n",
       "15            16  tt0000016  nm0525910  director\n",
       "16            17  tt0000017  nm0804434  director\n",
       "17            18  tt0000018  nm0804434  director\n",
       "18            19  tt0000019  nm0932055  director\n",
       "19            20  tt0000020  nm0010291  director\n",
       "20            21  tt0000022  nm0525910  director\n",
       "21            22  tt0000023  nm0525910  director\n",
       "22            23  tt0000024  nm0010291  director\n",
       "23            24  tt0000025  nm0010291  director\n",
       "24            25  tt0000026  nm0525910  director\n",
       "25            26  tt0000027  nm0525910  director\n",
       "26            27  tt0000028  nm0525910  director\n",
       "27            28  tt0000029  nm0525910  director\n",
       "28            29  tt0000030  nm0010291  director\n",
       "29            30  tt0000031  nm0525910  director\n",
       "30            31  tt0000007  nm0374658  director\n",
       "31            32  tt0000012  nm0525908  director\n",
       "32            33  tt0000014  nm0349785  director\n",
       "33            34  tt0000017  nm1587194  director\n",
       "34            35  tt0000030  nm0666972  director\n",
       "35            36  tt0000009  nm0085156    writer"
      ]
     },
     "metadata": {},
     "output_type": "display_data"
    }
   ],
   "source": [
    "crewMember_df = crewMember_df[['crewMemberId', 'tconst', 'nconst', 'role']]\n",
    "display(crewMember_df)"
   ]
  },
  {
   "cell_type": "markdown",
   "metadata": {},
   "source": [
    "## Export df to .tsv file"
   ]
  },
  {
   "cell_type": "code",
   "execution_count": 181,
   "metadata": {},
   "outputs": [],
   "source": [
    "path = \"/Users/hastigheibidehnashi/DBMS/IMDb/IMDb_Database/data/\"\n",
    "file = \"crew_member.tsv\"\n",
    "crewMember_df.to_csv(path+file, sep=\"\\t\")"
   ]
  },
  {
   "cell_type": "code",
   "execution_count": 169,
   "metadata": {},
   "outputs": [],
   "source": [
    "# # find every director and create a new row for them\n",
    "# df1 = dir_df[['tconst','role',0]]\n",
    "# df1 = df1.rename(columns={0: 'nconst'})  # rename the nconst col\n",
    "# df1 = df1.dropna(axis=0, how='any')  # drop rows with missing values\n",
    "\n",
    "# df2 = dir_df[['tconst','role',1]]\n",
    "# df2 = df2.rename(columns={1: 'nconst'})\n",
    "# df2 = df2.dropna(axis=0, how='any')\n",
    "\n",
    "# # find every writer and create a new row for them\n",
    "# df3 = writ_df[['tconst', 'role', 0]]\n",
    "# df3 = df3.rename(columns={0: 'nconst'})  # rename the nconst col\n",
    "# df3 = df3.dropna(axis=0, how='any') # drop rows with missing values\n",
    "\n",
    "# # df4 = writ_df[['tconst','role',1]]\n",
    "# # df4 = df4.rename(columns={1: 'nconst'})\n",
    "# # df4 = df4.dropna(axis=0, how='any')\n",
    " \n",
    "# display(df1, df2, df3) #df4"
   ]
  },
  {
   "cell_type": "code",
   "execution_count": 170,
   "metadata": {},
   "outputs": [],
   "source": [
    "# crewMember_df = pd.concat([df1, df2, df3], ignore_index=True,  sort=False)\n",
    "# crewMember_df['crewMemberId'] = crewMember_df.index+1  # add an index to serve as the primary key for the new table\n",
    "# display(crewMember_df)"
   ]
  },
  {
   "cell_type": "code",
   "execution_count": null,
   "metadata": {},
   "outputs": [],
   "source": [
    "# crewMembers_df\n",
    "# index    tconst    nconst     role\n",
    "# 0.        1234.    5678.      director\n",
    "# 1.        4321.   9876.       writer"
   ]
  },
  {
   "cell_type": "code",
   "execution_count": 164,
   "metadata": {},
   "outputs": [],
   "source": [
    "# dir_df = pd.concat([pd.Series(row['tconst'], row['directors'].split(',')) for _, row in crew_df.iterrows()])\n",
    "# writ_df = pd.concat([pd.Series(row['tconst'], row['writers'].split(',')) for _, row in crew_df.iterrows()])\n",
    "# df = df.rename(columns={\"index\": \"directors\", 0: \"tconst\"})\n",
    "# print(dir_df)\n",
    "# print(writ_df)"
   ]
  },
  {
   "cell_type": "code",
   "execution_count": 75,
   "metadata": {},
   "outputs": [],
   "source": [
    "# # seperate the nconst values in 'directors' and 'writers' col\n",
    "# crew_df['directors'] = crew_df['directors'].str.split(',')\n",
    "# crew_df['writers'] = crew_df['writers'].str.split(',')\n",
    "# print(crew_df)\n",
    "\n",
    "\n",
    "# print(dir_df)\n",
    "# print(writ_df)\n",
    "#d.index = d.index.droplevel(-1) # to line up with df's index\n",
    "#d.name = 'directors_new' # needs a name to join\n",
    "#crewMember_df = crew_df.join(d)\n",
    "#print(crewMember_df)"
   ]
  },
  {
   "cell_type": "code",
   "execution_count": 76,
   "metadata": {},
   "outputs": [],
   "source": [
    "# crewMember_df = pd.concat([dir_df, writ_df], axis=1)\n",
    "# print(crewMember_df)"
   ]
  },
  {
   "cell_type": "code",
   "execution_count": 61,
   "metadata": {},
   "outputs": [],
   "source": [
    "# seperate the nconst values in 'writers' col into their own row\n",
    "# w = crew_df['writers'].str.split(',').apply(pd.Series, 1).stack()\n",
    "# w.index = d.index.droplevel(-1) # to line up with df's index\n",
    "# w.name = 'writers_new' # needs a name to join\n",
    "# crewMember_df.join(w)\n",
    "# print(crewMember_df)"
   ]
  },
  {
   "cell_type": "code",
   "execution_count": 16,
   "metadata": {},
   "outputs": [],
   "source": [
    "# create a crewMembers df\n",
    "# for each nconst value in directors column and writers column create a new entry in the crewMembers df including tconst\n",
    "# include a new column called role, and add 'director' or 'writer' accordingly"
   ]
  }
 ],
 "metadata": {
  "kernelspec": {
   "display_name": "Python 3",
   "language": "python",
   "name": "python3"
  },
  "language_info": {
   "codemirror_mode": {
    "name": "ipython",
    "version": 3
   },
   "file_extension": ".py",
   "mimetype": "text/x-python",
   "name": "python",
   "nbconvert_exporter": "python",
   "pygments_lexer": "ipython3",
   "version": "3.8.3"
  }
 },
 "nbformat": 4,
 "nbformat_minor": 4
}
